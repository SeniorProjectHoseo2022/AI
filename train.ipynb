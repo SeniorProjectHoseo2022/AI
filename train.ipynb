{
 "cells": [
  {
   "cell_type": "code",
   "execution_count": 1,
   "outputs": [],
   "source": [
    "import pandas as pd\n",
    "import re"
   ],
   "metadata": {
    "collapsed": false,
    "pycharm": {
     "name": "#%%\n"
    }
   }
  },
  {
   "cell_type": "code",
   "execution_count": 2,
   "outputs": [
    {
     "data": {
      "text/plain": "1    45135\n0    32418\nName: 1, dtype: int64"
     },
     "execution_count": 2,
     "metadata": {},
     "output_type": "execute_result"
    }
   ],
   "source": [
    "df = pd.read_csv(\"temp.txt\")\n",
    "df['1'] = 0\n",
    "df['0'] = df['0'].apply(lambda x:re.sub(r'[^가-힣]+',\"\",x))\n",
    "df = df.drop_duplicates(['0'])\n",
    "df2 = pd.read_csv(\"save.csv\")\n",
    "df2 = pd.DataFrame(df2['11'])\n",
    "df2[1] = 1\n",
    "df2.columns = ['0','1']\n",
    "temp = pd.concat([df,df2])\n",
    "temp.to_csv('sentiment.csv')\n",
    "temp['1'].value_counts()"
   ],
   "metadata": {
    "collapsed": false,
    "pycharm": {
     "name": "#%%\n"
    }
   }
  },
  {
   "cell_type": "markdown",
   "source": [],
   "metadata": {
    "collapsed": false,
    "pycharm": {
     "name": "#%% md\n"
    }
   }
  },
  {
   "cell_type": "code",
   "execution_count": null,
   "outputs": [],
   "source": [
    "import pandas as pd\n",
    "from konlpy.tag import Okt\n",
    "okt = Okt()\n",
    "def okt_tokenizer(text):\n",
    "    tokens = okt.morphs(text)\n",
    "    return tokens"
   ],
   "metadata": {
    "collapsed": false,
    "pycharm": {
     "name": "#%%\n",
     "is_executing": true
    }
   }
  },
  {
   "cell_type": "code",
   "execution_count": null,
   "outputs": [],
   "source": [
    "from sklearn.feature_extraction.text import TfidfVectorizer\n",
    "tfidf = TfidfVectorizer(tokenizer=okt_tokenizer, ngram_range=(1,2), min_df=3, max_df=0.9)\n",
    "tfidf.fit(temp['0'])\n",
    "res = tfidf.transform(temp['0'].values.astype('U'))"
   ],
   "metadata": {
    "collapsed": false,
    "pycharm": {
     "name": "#%%\n",
     "is_executing": true
    }
   }
  },
  {
   "cell_type": "code",
   "execution_count": null,
   "outputs": [],
   "source": [
    "from sklearn.linear_model import  LogisticRegression\n",
    "sa_lr = LogisticRegression(random_state=0)\n",
    "sa_lr.fit(res,temp['1'])"
   ],
   "metadata": {
    "collapsed": false,
    "pycharm": {
     "name": "#%%\n",
     "is_executing": true
    }
   }
  },
  {
   "cell_type": "markdown",
   "source": [
    "df2['1'].value_counts()"
   ],
   "metadata": {
    "collapsed": false,
    "pycharm": {
     "name": "#%% md\n"
    }
   }
  },
  {
   "cell_type": "code",
   "execution_count": 15,
   "outputs": [],
   "source": [
    "from sklearn.model_selection import GridSearchCV\n",
    "params = {'C':[1,3,3.5,4,4.5,5]}\n",
    "grid_cv = GridSearchCV(sa_lr, param_grid = params, cv=3, scoring = 'accuracy', verbose=1)\n",
    "grid_cv.fit(res, temp['1'])"
   ],
   "metadata": {
    "collapsed": false,
    "pycharm": {
     "name": "#%%\n"
    }
   }
  },
  {
   "cell_type": "code",
   "execution_count": 18,
   "outputs": [
    {
     "name": "stdout",
     "output_type": "stream",
     "text": [
      "score :  0.9994\n"
     ]
    }
   ],
   "source": [
    "#정확도 테스트\n",
    "best = grid_cv.best_estimator_\n",
    "prd = best.predict(res)\n",
    "from sklearn.metrics import accuracy_score\n",
    "print('score : ', round(accuracy_score(temp['1'], prd),4))"
   ],
   "metadata": {
    "collapsed": false,
    "pycharm": {
     "name": "#%%\n"
    }
   }
  },
  {
   "cell_type": "code",
   "execution_count": 28,
   "outputs": [
    {
     "name": "stdout",
     "output_type": "stream",
     "text": [
      "[''] ->> 일반적인 문자\n"
     ]
    }
   ],
   "source": [
    "#TEST\n",
    "st = input('text>>')\n",
    "st = re.compile(r'[가-힣]+').findall(st)\n",
    "st = [\" \".join(st)]\n",
    "st_tfidf = tfidf.transform(st)\n",
    "st_predict = best.predict(st_tfidf)\n",
    "if st_predict==0:\n",
    "    print(st, \"->> 일반적인 문자\")\n",
    "else:\n",
    "    print(st, \"->> 스미싱 의심문자\")\n"
   ],
   "metadata": {
    "collapsed": false,
    "pycharm": {
     "name": "#%%\n"
    }
   }
  },
  {
   "cell_type": "code",
   "execution_count": 38,
   "outputs": [],
   "source": [
    "#SAVE TRAIN\n",
    "import pickle\n",
    "pickle.dump(res, open(\"transform.pickle\",\"wb\"))\n",
    "pickle.dump(tfidf, open(\"tfidf.pickle\",\"wb\"))\n",
    "pickle.dump(grid_cv, open(\"grid_cv.pickle\",\"wb\"))"
   ],
   "metadata": {
    "collapsed": false,
    "pycharm": {
     "name": "#%%\n"
    }
   }
  }
 ],
 "metadata": {
  "kernelspec": {
   "display_name": "Python 3",
   "language": "python",
   "name": "python3"
  },
  "language_info": {
   "codemirror_mode": {
    "name": "ipython",
    "version": 2
   },
   "file_extension": ".py",
   "mimetype": "text/x-python",
   "name": "python",
   "nbconvert_exporter": "python",
   "pygments_lexer": "ipython2",
   "version": "2.7.6"
  }
 },
 "nbformat": 4,
 "nbformat_minor": 0
}