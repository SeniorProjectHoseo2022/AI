{
 "cells": [
  {
   "cell_type": "code",
   "execution_count": 1,
   "outputs": [],
   "source": [
    "import re\n",
    "import pandas as pd\n",
    "from konlpy.tag import Okt\n",
    "okt = Okt()\n",
    "def okt_tokenizer(text):\n",
    "    tokens = okt.morphs(text)\n",
    "    return tokens\n",
    "\n",
    "import pickle\n",
    "tfidf = pickle.load(open(\"tfidf.pickle\",'rb'))\n",
    "res = pickle.load(open(\"transform.pickle\",'rb'))\n",
    "grid_cv = pickle.load(open(\"grid_cv.pickle\",'rb'))"
   ],
   "metadata": {
    "collapsed": false,
    "pycharm": {
     "name": "#%%\n"
    }
   }
  },
  {
   "cell_type": "markdown",
   "source": [],
   "metadata": {
    "collapsed": false,
    "pycharm": {
     "name": "#%% md\n"
    }
   }
  },
  {
   "cell_type": "code",
   "execution_count": 2,
   "outputs": [
    {
     "data": {
      "text/plain": "1    45135\n0    32418\nName: 1, dtype: int64"
     },
     "execution_count": 2,
     "metadata": {},
     "output_type": "execute_result"
    }
   ],
   "source": [
    "df = pd.read_csv('sentiment.csv')\n",
    "df['1'].value_counts()"
   ],
   "metadata": {
    "collapsed": false,
    "pycharm": {
     "name": "#%%\n"
    }
   }
  },
  {
   "cell_type": "code",
   "execution_count": 3,
   "outputs": [
    {
     "name": "stdout",
     "output_type": "stream",
     "text": [
      "score :  0.9994\n"
     ]
    }
   ],
   "source": [
    "best = grid_cv.best_estimator_\n",
    "prd = best.predict(res)\n",
    "from sklearn.metrics import accuracy_score\n",
    "\n",
    "print('score : ', round(accuracy_score(df['1'], prd), 4))"
   ],
   "metadata": {
    "collapsed": false,
    "pycharm": {
     "name": "#%%\n"
    }
   }
  },
  {
   "cell_type": "code",
   "execution_count": 6,
   "outputs": [],
   "source": [
    "from flask import Flask, request\n",
    "app = Flask(__name__)\n",
    "@app.route('/')\n",
    "def wellcome():\n",
    "    return \"HelloWorld\"\n",
    "@app.route('/shutdown')\n",
    "def shutdown():\n",
    "    func = request.environ.get('werkzeug.server.shutdown')\n",
    "    if func is None:\n",
    "        raise RuntimeError('Not running with the Werkzeug Server')\n",
    "    func()\n",
    "    return \"shutdown\"\n",
    "@app.route('/work', methods=['get'])\n",
    "def work():\n",
    "    key_dict = ['5063a0fae26d87acc2dd2fca8a374c9454c890ac0f650b2ba23ba1162991b63a', 'c05f9f2e8fcb0ce1f01d7ecddc04b37d10639df01b1a2db7ce29e8647fd53235', 'dd1caa78827e84ced4e89a6110534ec276070415054834ee1cdd2e729d6dd5ff','dd1caa78827e84ced4e89a6110534ec276070415054834ee1cdd2e729d6dd5ff','820963ca3e2bf4430ab66848a1a80d30646baa80a2129486b3119baa1cd44829','1b5394c88f45ee017a2d5d15f7e9294faea9d36f02221f88c5363b31ead17aae','b4131552f0f8f391665dfa8c4c5180045e22a4281891a5a008412898fad87c93']\n",
    "\n",
    "    import requests\n",
    "    uid = request.args.get('uid')\n",
    "    data = request.args.get('text')\n",
    "    pid = request.args.get('pid')\n",
    "    temp = data\n",
    "    if pid is not None and data is not None and uid is not None:\n",
    "\n",
    "        scan_url = re.findall('http[s]?://(?:[a-zA-Z]|[0-9]|[$\\-@\\.&+:/?=]|[!*\\(\\),]|(?:%[0-9a-fA-F][0-9a-fA-F]))+', data)\n",
    "        data = re.compile(r'[가-힣]+').findall(data)\n",
    "        data = [\" \".join(data)]\n",
    "        data_tfidf = tfidf.transform(data)\n",
    "        data_predict = best.predict(data_tfidf)\n",
    "        rq = requests.post('http://localhost:8080/ai/response', data={'uid':uid, '_confirm':data_predict,'message':temp,'pid':pid}).json()\n",
    "        print(rq)\n",
    "        if scan_url!=[]:\n",
    "            scan_url = scan_url[0]\n",
    "            urlcheck = requests.post('http://localhost:8080/ai/url', data={'url':scan_url}).json()\n",
    "            url_confirm = str(urlcheck.get('data')['confirm'])\n",
    "\n",
    "            if url_confirm==\"-1\":\n",
    "                for my_apikey in key_dict:\n",
    "                    try:\n",
    "                        url_confirm=0\n",
    "                        url = 'https://www.virustotal.com/vtapi/v2/url/scan'\n",
    "                        params = {'apikey': my_apikey, 'url': scan_url}\n",
    "                        response_scan = requests.post(url, data=params)\n",
    "                        result_scan = response_scan.json()\n",
    "                        scan_id = result_scan['scan_id']  # 결과를 출력을 위해 scan_id 값 저장\n",
    "                        url_report = 'https://www.virustotal.com/vtapi/v2/url/report'\n",
    "                        url_report_params = {'apikey': my_apikey, 'resource': scan_id}\n",
    "                        response_report = requests.get(url_report, params=url_report_params)\n",
    "                        report = response_report.json()  # 결과 값을 report에 json형태로 저장\n",
    "                        report_scans = report.get('scans')  # scans 값 저장\n",
    "                        report_scans_vendors = list(report['scans'].keys())  # Vendor 저장\n",
    "                        for vendor in report_scans_vendors:\n",
    "                            outputs_result = report_scans[vendor].get('result')\n",
    "                            if outputs_result != 'clean site':\n",
    "                                if outputs_result != 'unrated site':\n",
    "                                    url_confirm = 1\n",
    "                        requests.post('http://localhost:8080/ai/insert_url', data={'pid':pid, '_confirm':url_confirm,'url':scan_url}).json()\n",
    "                        break\n",
    "                    except:\n",
    "                        print('key error : ' + my_apikey)\n",
    "            return {'message_confirm':str(data_predict[0]),'qid':str(rq.get('data')['qid']), 'url':scan_url, \"url_confirm\":url_confirm}\n",
    "        else:\n",
    "            return {'message_confirm':str(data_predict[0]),'qid':str(rq.get('data')['qid']), 'url':scan_url, \"url_confirm\":0}\n",
    "    else:\n",
    "        return {'parameter error'}"
   ],
   "metadata": {
    "collapsed": false,
    "pycharm": {
     "name": "#%%\n"
    }
   }
  },
  {
   "cell_type": "code",
   "execution_count": null,
   "outputs": [
    {
     "name": "stdout",
     "output_type": "stream",
     "text": [
      " * Serving Flask app \"__main__\" (lazy loading)\n",
      " * Environment: production\n",
      "\u001B[31m   WARNING: This is a development server. Do not use it in a production deployment.\u001B[0m\n",
      "\u001B[2m   Use a production WSGI server instead.\u001B[0m\n",
      " * Debug mode: off\n"
     ]
    },
    {
     "name": "stderr",
     "output_type": "stream",
     "text": [
      " * Running on http://127.0.0.1:5000/ (Press CTRL+C to quit)\n"
     ]
    },
    {
     "name": "stdout",
     "output_type": "stream",
     "text": [
      "{'message': '200', 'data': '404'}\n"
     ]
    },
    {
     "name": "stderr",
     "output_type": "stream",
     "text": [
      "[2022-09-22 19:32:43,068] ERROR in app: Exception on /work [GET]\n",
      "Traceback (most recent call last):\n",
      "  File \"C:\\Users\\0\\anaconda3\\lib\\site-packages\\urllib3\\connectionpool.py\", line 703, in urlopen\n",
      "    httplib_response = self._make_request(\n",
      "  File \"C:\\Users\\0\\anaconda3\\lib\\site-packages\\urllib3\\connectionpool.py\", line 449, in _make_request\n",
      "    six.raise_from(e, None)\n",
      "  File \"<string>\", line 3, in raise_from\n",
      "  File \"C:\\Users\\0\\anaconda3\\lib\\site-packages\\urllib3\\connectionpool.py\", line 444, in _make_request\n",
      "    httplib_response = conn.getresponse()\n",
      "  File \"C:\\Users\\0\\anaconda3\\lib\\http\\client.py\", line 1377, in getresponse\n",
      "    response.begin()\n",
      "  File \"C:\\Users\\0\\anaconda3\\lib\\http\\client.py\", line 320, in begin\n",
      "    version, status, reason = self._read_status()\n",
      "  File \"C:\\Users\\0\\anaconda3\\lib\\http\\client.py\", line 281, in _read_status\n",
      "    line = str(self.fp.readline(_MAXLINE + 1), \"iso-8859-1\")\n",
      "  File \"C:\\Users\\0\\anaconda3\\lib\\socket.py\", line 704, in readinto\n",
      "    return self._sock.recv_into(b)\n",
      "ConnectionResetError: [WinError 10054] 현재 연결은 원격 호스트에 의해 강제로 끊겼습니다\n",
      "\n",
      "During handling of the above exception, another exception occurred:\n",
      "\n",
      "Traceback (most recent call last):\n",
      "  File \"C:\\Users\\0\\anaconda3\\lib\\site-packages\\requests\\adapters.py\", line 440, in send\n",
      "    resp = conn.urlopen(\n",
      "  File \"C:\\Users\\0\\anaconda3\\lib\\site-packages\\urllib3\\connectionpool.py\", line 785, in urlopen\n",
      "    retries = retries.increment(\n",
      "  File \"C:\\Users\\0\\anaconda3\\lib\\site-packages\\urllib3\\util\\retry.py\", line 550, in increment\n",
      "    raise six.reraise(type(error), error, _stacktrace)\n",
      "  File \"C:\\Users\\0\\anaconda3\\lib\\site-packages\\urllib3\\packages\\six.py\", line 769, in reraise\n",
      "    raise value.with_traceback(tb)\n",
      "  File \"C:\\Users\\0\\anaconda3\\lib\\site-packages\\urllib3\\connectionpool.py\", line 703, in urlopen\n",
      "    httplib_response = self._make_request(\n",
      "  File \"C:\\Users\\0\\anaconda3\\lib\\site-packages\\urllib3\\connectionpool.py\", line 449, in _make_request\n",
      "    six.raise_from(e, None)\n",
      "  File \"<string>\", line 3, in raise_from\n",
      "  File \"C:\\Users\\0\\anaconda3\\lib\\site-packages\\urllib3\\connectionpool.py\", line 444, in _make_request\n",
      "    httplib_response = conn.getresponse()\n",
      "  File \"C:\\Users\\0\\anaconda3\\lib\\http\\client.py\", line 1377, in getresponse\n",
      "    response.begin()\n",
      "  File \"C:\\Users\\0\\anaconda3\\lib\\http\\client.py\", line 320, in begin\n",
      "    version, status, reason = self._read_status()\n",
      "  File \"C:\\Users\\0\\anaconda3\\lib\\http\\client.py\", line 281, in _read_status\n",
      "    line = str(self.fp.readline(_MAXLINE + 1), \"iso-8859-1\")\n",
      "  File \"C:\\Users\\0\\anaconda3\\lib\\socket.py\", line 704, in readinto\n",
      "    return self._sock.recv_into(b)\n",
      "urllib3.exceptions.ProtocolError: ('Connection aborted.', ConnectionResetError(10054, '현재 연결은 원격 호스트에 의해 강제로 끊겼습니다', None, 10054, None))\n",
      "\n",
      "During handling of the above exception, another exception occurred:\n",
      "\n",
      "Traceback (most recent call last):\n",
      "  File \"C:\\Users\\0\\anaconda3\\lib\\site-packages\\flask\\app.py\", line 2447, in wsgi_app\n",
      "    response = self.full_dispatch_request()\n",
      "  File \"C:\\Users\\0\\anaconda3\\lib\\site-packages\\flask\\app.py\", line 1952, in full_dispatch_request\n",
      "    rv = self.handle_user_exception(e)\n",
      "  File \"C:\\Users\\0\\anaconda3\\lib\\site-packages\\flask\\app.py\", line 1821, in handle_user_exception\n",
      "    reraise(exc_type, exc_value, tb)\n",
      "  File \"C:\\Users\\0\\anaconda3\\lib\\site-packages\\flask\\_compat.py\", line 39, in reraise\n",
      "    raise value\n",
      "  File \"C:\\Users\\0\\anaconda3\\lib\\site-packages\\flask\\app.py\", line 1950, in full_dispatch_request\n",
      "    rv = self.dispatch_request()\n",
      "  File \"C:\\Users\\0\\anaconda3\\lib\\site-packages\\flask\\app.py\", line 1936, in dispatch_request\n",
      "    return self.view_functions[rule.endpoint](**req.view_args)\n",
      "  File \"C:\\Users\\0\\AppData\\Local\\Temp\\ipykernel_1468\\898975591.py\", line 33, in work\n",
      "    urlcheck = requests.post('http://localhost:8080/ai/url', data={'url':scan_url}).json()\n",
      "  File \"C:\\Users\\0\\anaconda3\\lib\\site-packages\\requests\\api.py\", line 117, in post\n",
      "    return request('post', url, data=data, json=json, **kwargs)\n",
      "  File \"C:\\Users\\0\\anaconda3\\lib\\site-packages\\requests\\api.py\", line 61, in request\n",
      "    return session.request(method=method, url=url, **kwargs)\n",
      "  File \"C:\\Users\\0\\anaconda3\\lib\\site-packages\\requests\\sessions.py\", line 529, in request\n",
      "    resp = self.send(prep, **send_kwargs)\n",
      "  File \"C:\\Users\\0\\anaconda3\\lib\\site-packages\\requests\\sessions.py\", line 645, in send\n",
      "    r = adapter.send(request, **kwargs)\n",
      "  File \"C:\\Users\\0\\anaconda3\\lib\\site-packages\\requests\\adapters.py\", line 501, in send\n",
      "    raise ConnectionError(err, request=request)\n",
      "requests.exceptions.ConnectionError: ('Connection aborted.', ConnectionResetError(10054, '현재 연결은 원격 호스트에 의해 강제로 끊겼습니다', None, 10054, None))\n",
      "127.0.0.1 - - [22/Sep/2022 19:32:43] \"GET /work?text=안녕%20반가워%20%20https%3A%2F%2Fbprhost.com%2Fdigital%2Faccedi%2F%201231231232%20으휴...%20그만해라%21&uid=1&pid=1 HTTP/1.1\" 500 -\n",
      "127.0.0.1 - - [22/Sep/2022 19:35:45] \"GET /work?text=안녕%20반가워%20%20https%3A%2F%2Fbprhost.com%2Fdigital%2Faccedi%2F%201231231232%20으휴...%20그만해라%21&uid=1&pid=1 HTTP/1.1\" 200 -\n"
     ]
    },
    {
     "name": "stdout",
     "output_type": "stream",
     "text": [
      "{'message': '200', 'data': {'qid': 445}}\n"
     ]
    },
    {
     "name": "stderr",
     "output_type": "stream",
     "text": [
      "127.0.0.1 - - [22/Sep/2022 19:36:06] \"GET /work?text=안녕%20반가워%20%20https%3A%2F%2Fbprhost.com%2Fdigital%2Faccedi%2F%201231231232%20으휴...%20그만해라%21&uid=1&pid=1 HTTP/1.1\" 200 -\n"
     ]
    },
    {
     "name": "stdout",
     "output_type": "stream",
     "text": [
      "{'message': '200', 'data': {'qid': 446}}\n"
     ]
    },
    {
     "name": "stderr",
     "output_type": "stream",
     "text": [
      "127.0.0.1 - - [22/Sep/2022 19:36:12] \"GET /work?text=안녕%20반가워%20%20https%3A%2F%2Fbprhost.com%2Fdigital%2Faccedi%2F%201231231232%20으휴...%20그만해라%21&uid=1&pid=1 HTTP/1.1\" 200 -\n"
     ]
    },
    {
     "name": "stdout",
     "output_type": "stream",
     "text": [
      "{'message': '200', 'data': {'qid': 447}}\n"
     ]
    },
    {
     "name": "stderr",
     "output_type": "stream",
     "text": [
      "127.0.0.1 - - [22/Sep/2022 19:48:02] \"POST /account/login?id=telsam&pw=1234 HTTP/1.1\" 404 -\n",
      "127.0.0.1 - - [22/Sep/2022 19:49:13] \"POST /account/login?id=telsam&pw=1234 HTTP/1.1\" 404 -\n",
      "127.0.0.1 - - [22/Sep/2022 19:51:34] \"POST /account/login?id=telsam&pw=1234 HTTP/1.1\" 404 -\n",
      "127.0.0.1 - - [22/Sep/2022 19:55:20] \"GET /work?text=안녕%20반가워%20%20https%3A%2F%2Fbprhost.com%2Fdigital%2Faccedi%2F%201231231232%20으휴...%20그만해라%21&uid=1&pid=1 HTTP/1.1\" 200 -\n"
     ]
    },
    {
     "name": "stdout",
     "output_type": "stream",
     "text": [
      "{'message': '200', 'data': {'qid': 448}}\n"
     ]
    },
    {
     "name": "stderr",
     "output_type": "stream",
     "text": [
      "127.0.0.1 - - [22/Sep/2022 19:55:23] \"GET /work?text=안녕%20반가워%20%20https%3A%2F%2Fbprhost.com%2Fdigital%2Faccedi%2F%201231231232%20으휴...%20그만해라%21&uid=1&pid=1 HTTP/1.1\" 200 -\n"
     ]
    },
    {
     "name": "stdout",
     "output_type": "stream",
     "text": [
      "{'message': '200', 'data': {'qid': 449}}\n"
     ]
    },
    {
     "name": "stderr",
     "output_type": "stream",
     "text": [
      "127.0.0.1 - - [22/Sep/2022 19:55:26] \"GET /work?text=안녕%20반가워%20%20https%3A%2F%2Fbprhost.com%2Fdigital%2Faccedi%2F%201231231232%20으휴...%20그만해라%21&uid=1&pid=1 HTTP/1.1\" 200 -\n"
     ]
    },
    {
     "name": "stdout",
     "output_type": "stream",
     "text": [
      "{'message': '200', 'data': {'qid': 450}}\n"
     ]
    },
    {
     "name": "stderr",
     "output_type": "stream",
     "text": [
      "127.0.0.1 - - [22/Sep/2022 19:55:40] \"GET /work?text=안녕%20반가워%20%20https%3A%2F%2Fbprhost.com%2Fdigital%2Faccedi%2F%201231231232%20으휴...%20그만해라%21&uid=1&pid=1 HTTP/1.1\" 200 -\n"
     ]
    },
    {
     "name": "stdout",
     "output_type": "stream",
     "text": [
      "{'message': '200', 'data': {'qid': 451}}\n"
     ]
    }
   ],
   "source": [
    "app.run()"
   ],
   "metadata": {
    "collapsed": false,
    "pycharm": {
     "name": "#%%\n",
     "is_executing": true
    }
   }
  },
  {
   "cell_type": "code",
   "execution_count": null,
   "outputs": [],
   "source": [],
   "metadata": {
    "collapsed": false,
    "pycharm": {
     "name": "#%%\n"
    }
   }
  }
 ],
 "metadata": {
  "kernelspec": {
   "display_name": "Python 3",
   "language": "python",
   "name": "python3"
  },
  "language_info": {
   "codemirror_mode": {
    "name": "ipython",
    "version": 2
   },
   "file_extension": ".py",
   "mimetype": "text/x-python",
   "name": "python",
   "nbconvert_exporter": "python",
   "pygments_lexer": "ipython2",
   "version": "2.7.6"
  }
 },
 "nbformat": 4,
 "nbformat_minor": 0
}